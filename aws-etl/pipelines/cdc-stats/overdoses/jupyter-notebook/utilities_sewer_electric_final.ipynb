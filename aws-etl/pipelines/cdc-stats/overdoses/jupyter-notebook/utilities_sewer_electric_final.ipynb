{
 "cells": [
  {
   "cell_type": "markdown",
   "metadata": {},
   "source": [
    "## Sanitary Sewer at City of Columbia\n",
    "\n",
    "1. Editing and digitizing Sanitary Sewer networks according to NASSCO based GIS Schema\n",
    "    - Was NASSCO certified and review MACP and PACP videos\n",
    "\n",
    "2. Primary analyst responsible for O&M project GIS feature produciton and summary statistics\n",
    "\n",
    "    - Features reflected statuses of rehab, what was in scope by fiscal year\n",
    "    - Easement Clearing\n",
    "    - Manhole rehabilitation\n",
    "    - Gravity main rehabilitation "
   ]
  },
  {
   "cell_type": "markdown",
   "metadata": {},
   "source": [
    "## Electric Utilities at Duke Energy\n",
    "\n",
    "1. Configuring web applications for entry level technicians to mark conductor lines and \"critical devices\" in scope using ESRI native widgets. \n",
    "\n",
    "2. Arcade for symbolization based on status in web application (in-scope vs out)\n",
    "\n",
    "3. Utility network tracing by confiuring subnetwork controllers at identified critical devices for downstream selection and asset querying. "
   ]
  }
 ],
 "metadata": {
  "language_info": {
   "name": "python"
  }
 },
 "nbformat": 4,
 "nbformat_minor": 2
}
